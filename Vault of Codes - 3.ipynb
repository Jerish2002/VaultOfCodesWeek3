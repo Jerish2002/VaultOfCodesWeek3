{
 "cells": [
  {
   "cell_type": "markdown",
   "id": "4c776feb",
   "metadata": {},
   "source": [
    "# Internship - Week 3\n",
    "## Codes after Debugging"
   ]
  },
  {
   "cell_type": "markdown",
   "id": "4923b1d2",
   "metadata": {},
   "source": [
    "\n",
    "### Task 1:\n",
    "Objective : Mini Project\n",
    "\n",
    "Create a Password Strength Indicator for a login page of our Werbsite"
   ]
  },
  {
   "cell_type": "code",
   "execution_count": 5,
   "id": "530ce58f",
   "metadata": {},
   "outputs": [
    {
     "name": "stdout",
     "output_type": "stream",
     "text": [
      "Enter your Password : Jerish@123\n",
      "The Password Strength : Strong Password\n"
     ]
    }
   ],
   "source": [
    "import re\n",
    "\n",
    "def check_password_strength(password):\n",
    "    length=len(password)\n",
    "    uppercase=bool(re.search(r'[A-Z]',password))\n",
    "    lowercase=bool(re.search(r'[a-z]',password))\n",
    "    digits=bool(re.search(r'\\d',password))\n",
    "    special_chars=bool(re.search(r'[!@#$%^&*(),.?\":{}<>]',password))\n",
    "    \n",
    "    if length>=8 and uppercase and lowercase and digits and special_chars:\n",
    "        return \"Strong Password\"\n",
    "    \n",
    "    elif length>=8 and (uppercase or lowercase) and digits:\n",
    "        return \"Moderate Password\"\n",
    "    \n",
    "    elif length>=6:\n",
    "        return \"Weak Password\"\n",
    "    \n",
    "    else:\n",
    "        return \"Very Weak Password\"\n",
    "    \n",
    "password=input(\"Enter your Password : \")\n",
    "strength=check_password_strength(password)\n",
    "\n",
    "print(f\"The Password Strength : {strength}\")"
   ]
  },
  {
   "cell_type": "markdown",
   "id": "a6183143",
   "metadata": {},
   "source": [
    "# Thank You"
   ]
  }
 ],
 "metadata": {
  "kernelspec": {
   "display_name": "Python 3 (ipykernel)",
   "language": "python",
   "name": "python3"
  },
  "language_info": {
   "codemirror_mode": {
    "name": "ipython",
    "version": 3
   },
   "file_extension": ".py",
   "mimetype": "text/x-python",
   "name": "python",
   "nbconvert_exporter": "python",
   "pygments_lexer": "ipython3",
   "version": "3.11.5"
  }
 },
 "nbformat": 4,
 "nbformat_minor": 5
}
